{
 "cells": [
  {
   "cell_type": "code",
   "execution_count": 1,
   "metadata": {},
   "outputs": [],
   "source": [
    "import cvxpy as cp\n",
    "import numpy as np\n",
    "import pickle as pkl\n",
    "import matplotlib.pyplot as plt\n",
    "import scipy.io\n",
    "# mosek only needed if we don't use MW\n",
    "#import mosek\n",
    "from sklearn.linear_model import LinearRegression\n",
    "from sklearn.model_selection import train_test_split\n",
    "import cProfile\n",
    "#from baselines import *\n",
    "from scipy.linalg import sqrtm\n",
    "\n",
    "from scipy.special import expit,logit "
   ]
  },
  {
   "cell_type": "code",
   "execution_count": 2,
   "metadata": {
    "scrolled": false
   },
   "outputs": [
    {
     "name": "stdout",
     "output_type": "stream",
     "text": [
      "number of corruptions\n",
      "100\n",
      "[[-0.01031916  0.00590313]]\n",
      "[[-0.88727907  0.46123297]]\n",
      "score\n",
      "0.726\n"
     ]
    }
   ],
   "source": [
    "#synthetic example with N datapoints, in d dimensions, with k actions, random regressors\n",
    "#returns a dictionary of covariates x, labels y, regressors ell.  \n",
    "def synthetic_example(N,d,k):\n",
    "    #covariates\n",
    "    x = np.random.normal(0,1,(N,d))\n",
    "    #regressors\n",
    "    ell = np.random.normal(0,1,(k,d))\n",
    "    #labels\n",
    "    y = np.zeros((N,k))\n",
    "    for i in range(N):\n",
    "        for j in range(k):\n",
    "            feature = x[i,:]\n",
    "            regressor = ell[j,:]\n",
    "            y[i,j] = np.inner(feature,regressor) + np.random.normal(0,1)\n",
    "    data = {'cov': x, 'label': y, 'reg': ell}\n",
    "    return data\n",
    "\n",
    "from scipy.special import logit, expit\n",
    "\n",
    "def logistic_synthetic_example(N,d,k,eta,corrupt=False):\n",
    "    #covariates, scaling the covariates to be of large norm amplifies the effect of corruptions\n",
    "    #good parameters: scale x by 100, d = 100, N = 1000\n",
    "    x = np.random.normal(0,1,(N,d))*100\n",
    "    #regressors\n",
    "    ell = np.random.normal(0,1,(k,d))\n",
    "    ell = ell/np.linalg.norm(ell)\n",
    "    #labels\n",
    "    y = np.zeros((N,k))\n",
    "    prob_list = np.zeros((N,k))\n",
    "    for i in range(N):\n",
    "        for j in range(k):\n",
    "            feature = x[i,:]\n",
    "            regressor = ell[j,:]\n",
    "            prob = expit(np.inner(feature,regressor))\n",
    "            prob_list[i,j] = prob\n",
    "            y[i,j] = np.random.binomial(1,prob)\n",
    "            #deterministic labels\n",
    "            #if prob > 0.5:\n",
    "            #    y[i,j] = 1\n",
    "            #else:\n",
    "            #    y[i,j] = 0\n",
    "    if corrupt:\n",
    "        corr = int(eta*N)\n",
    "        print('number of corruptions')\n",
    "        print(corr)\n",
    "        poison = False\n",
    "        if poison:\n",
    "            print('TODO: poisoning')\n",
    "        else: \n",
    "            select = np.zeros((corr,k))\n",
    "            for j in range(k):\n",
    "                order = np.argsort(prob_list[:,j])\n",
    "                select[:,j] = order[:corr]\n",
    "            for i in range(corr):\n",
    "                for j in range(k):\n",
    "                    index = int(select[i,j])\n",
    "                    y[index,j] = 1 - y[index,j]\n",
    "    data = {'cov': x, 'label': y, 'reg': ell}\n",
    "    return data\n",
    "\n",
    "#data = synthetic_example(1000,100,10)    \n",
    "#print(data)\n",
    "\n",
    "import pandas as pd, numpy as np, re\n",
    "from sklearn.preprocessing import MultiLabelBinarizer\n",
    "from sklearn.datasets import load_svmlight_file\n",
    "\n",
    "def parse_data(filename):\n",
    "    with open(filename, \"rb\") as f:\n",
    "        infoline = f.readline()\n",
    "        infoline = re.sub(r\"^b'\", \"\", str(infoline))\n",
    "        n_features = int(re.sub(r\"^\\d+\\s(\\d+)\\s\\d+.*$\", r\"\\1\", infoline))\n",
    "        features, labels = load_svmlight_file(f, n_features=n_features, multilabel=True)\n",
    "    mlb = MultiLabelBinarizer()\n",
    "    labels = mlb.fit_transform(labels)\n",
    "    features = np.array(features.todense())\n",
    "    features = np.ascontiguousarray(features)\n",
    "    return features, labels\n",
    "\n",
    "\n",
    "data_mode = 'logistic_synth'\n",
    "#data_mode = 'synthetic'\n",
    "#data_mode = 'real'\n",
    "N = 1000\n",
    "d = 2\n",
    "k = 1\n",
    "eta = 0.1\n",
    "\n",
    "if data_mode == 'logistic_synth':\n",
    "    data = logistic_synthetic_example(N,d,k,eta,corrupt=True)\n",
    "    #data = logistic_synthetic_example(N,d,k,eta,corrupt=False)\n",
    "if data_mode == 'synthetic':\n",
    "    data = synthetic_example(1000,10,10)    \n",
    "elif data_mode == 'real': \n",
    "    x, y = parse_data(\"Bibtex_data.txt\")\n",
    "    print(x.shape)\n",
    "    print(y.shape)\n",
    "    data = {'cov': x, 'label': y}\n",
    "\n",
    "x = data['cov']\n",
    "y = data['label']\n",
    "\n",
    "from sklearn.linear_model import LogisticRegression\n",
    "\n",
    "model = LogisticRegression(solver='liblinear', random_state=0, fit_intercept ='False')\n",
    "#a = np.zeros((2,3)).reshape(-1,1)\n",
    "#b = np.ones(2)\n",
    "\n",
    "#a = np.zeros(10,2).reshape(-1, 1)\n",
    "#b = np.array([0, 0, 0, 0, 1, 1, 1, 1, 1, 1])\n",
    "lab = y[:,0]\n",
    "model.fit(x, lab)\n",
    "print(model.coef_)\n",
    "print(data['reg'])\n",
    "print('score')\n",
    "print(model.score(x,lab))\n",
    "\n",
    "vanilla = model.coef_"
   ]
  },
  {
   "cell_type": "code",
   "execution_count": 3,
   "metadata": {},
   "outputs": [
    {
     "name": "stdout",
     "output_type": "stream",
     "text": [
      "non robust performance:  [0.38119453]\n",
      "robust performance:  [0.21015385]\n",
      "vanilla:  [[-0.01031916  0.00590313]]\n",
      "reg:  [-0.0437097  0.023328 ]\n"
     ]
    }
   ],
   "source": [
    "#logistic regression version of scram\n",
    "from scipy.linalg import eigh\n",
    "\n",
    "def logistic_reg_oracle(x,y,mode='robust-logistic'):\n",
    "    if mode == 'robust-logistic':\n",
    "        lr = 0.1\n",
    "        #lam = 0.2\n",
    "        #BUG FIX for lam > 0\n",
    "        lam = 0.0\n",
    "        MW_steps = 30\n",
    "        #eta = 0.1\n",
    "        AM_steps = 30\n",
    "        params = (AM_steps,lr,lam,MW_steps,eta)\n",
    "        #print('enerting logistic scram')\n",
    "        regressor = logistic_scram(x,y,params)\n",
    "    return regressor\n",
    "\n",
    "def logistic_scram(x,y,params):\n",
    "    AM_steps = params[0]\n",
    "    altmin_params = params[1:]\n",
    "    N,d = x.shape\n",
    "    w = [0.]*d\n",
    "    a = [1.]*N\n",
    "    #TODO: fix isotropic step, for now identity covariance\n",
    "    #iso_x, Sig_sqrt = isotropic(x)\n",
    "    iso_x = x\n",
    "    Sig_sqrt = np.eye(d)\n",
    "    for i in range(AM_steps):\n",
    "        #print('AM step: ',i)\n",
    "        #print('entering logistic altmin step')\n",
    "        w,a = logistic_altmin_step(iso_x,y,a,altmin_params)\n",
    "    final_w = np.matmul(Sig_sqrt,w)    \n",
    "    return final_w\n",
    "\n",
    "def logistic_altmin_step(Xs,Ys,a,params):\n",
    "    N,d = Xs.shape\n",
    "    w = weighted_logistic_reg(Xs,Ys,a)\n",
    "    a = logistic_get_weights(Xs,Ys,w,params)\n",
    "    return w, a\n",
    "\n",
    "def weighted_logistic_reg(x,y,a):\n",
    "    n,d = x.shape\n",
    "    hard_weights = np.zeros(n)\n",
    "    m = min(int(n*(1 - eta))+1,n) \n",
    "    prob = a*m\n",
    "    for i in range(N):\n",
    "        ind = np.random.binomial(1,prob[i])\n",
    "        hard_weights[i] = ind\n",
    "    \n",
    "    N_train = int(np.sum(hard_weights))\n",
    "    #print('N_train: ',N_train)\n",
    "    x_train = np.zeros((N_train,d)) \n",
    "    y_train = np.zeros(N_train)\n",
    "    \n",
    "    hold = 0\n",
    "    for i in range(N):\n",
    "        if hard_weights[i] == 1:\n",
    "            x_train[hold,:] = x[i,:]\n",
    "            y_train[hold] = y[i]\n",
    "            hold = hold + 1\n",
    "    model = LogisticRegression(solver='liblinear', random_state=0, fit_intercept ='False')\n",
    "    #lab = y[:,0]\n",
    "    model.fit(x_train, y_train)\n",
    "    #print('regressor shape: ', model.coef_.shape)\n",
    "    regressor = model.coef_[0,:]\n",
    "    #print('regressor shape: ', regressor.shape)\n",
    "    return regressor\n",
    "\n",
    "def logistic_get_weights(X,y,w,params):\n",
    "    n,d = X.shape\n",
    "    lr,lam,steps,eta = params\n",
    "    a = np.ones(n)/float(n)\n",
    "    #Sig = np.cov(X.T)\n",
    "    Sig = np.matmul(X.T,X)\n",
    "    #print('y: ', y.shape)\n",
    "    #print('X: ', X.shape)\n",
    "    #print('w: ', w.shape)\n",
    "    #print('Xw:', np.matmul(X,w).shape)\n",
    "    Xw = np.matmul(X,w)\n",
    "    pred = expit(Xw)\n",
    "    resids = np.absolute(y - pred)\n",
    "\n",
    "    #print(\"begin MW\")\n",
    "    for j in range(steps):\n",
    "        #if j % 10 == 0:\n",
    "        #    print(j)\n",
    "        if lam > 0:\n",
    "            v = v_step(a,X,Sig,eta)\n",
    "        else:\n",
    "            v = np.zeros(d)\n",
    "        a = a_step(a,X,resids,v,lr=lr,lam=lam,eta=eta,n=n)\n",
    "    return a\n",
    "\n",
    "def outerprod(a,X):\n",
    "    \"\"\" Compute X^T diag(a) X \"\"\"\n",
    "    left = np.multiply(X.T,a)\n",
    "    return np.dot(left,X)\n",
    "\n",
    "def cap(a,m):\n",
    "    #print('cap1: ', a.shape)\n",
    "    #print('m: ', m)\n",
    "    #print('a: ', a)\n",
    "    if np.max(a) <= 1./m:\n",
    "        return a\n",
    "    #sorted_a = np.sort(a)\n",
    "    ## BUG FIX: use -a to get descending order\n",
    "    sort_ids = np.argsort(-a)\n",
    "    # Faster code\n",
    "    Z = np.sum(a)\n",
    "    for i in range(1,m + 1):\n",
    "        #print('a shape: ', a.shape)\n",
    "        #print('id: ', sort_ids[i])\n",
    "        Z -= a[sort_ids[i - 1]]\n",
    "        aprime_next = (m - i) * a[sort_ids[i]]/float(m * Z)\n",
    "        if aprime_next <= 1.0/m:\n",
    "            aprime = np.copy(a)\n",
    "            aprime[sort_ids[:i]] = 1./m\n",
    "            aprime[sort_ids[i:]] *= (m - i)/float(m * Z)\n",
    "            return aprime\n",
    "\n",
    "def v_step(a,X,Sig,eta,tol=0):\n",
    "    \"\"\" Compute top eigenvector of X^T diag(1/n-a) X\"\"\"\n",
    "    # Bug fix: this was formerly 1 and not 1/n\n",
    "    #print('a: ', a)\n",
    "    #print('shape a: ', a.shape)\n",
    "    n = a.shape[0]\n",
    "    #m = int(n*(1 - eta)) \n",
    "    M = outerprod(1./n-a,X)\n",
    "\n",
    "    # this method is slower sometimes and faster sometimes vs other one, depending on d?\n",
    "    d = M.shape[0]\n",
    "\n",
    "    # Want top eigenvalue algebraically\n",
    "    eigenvalue, v = eigh(M, eigvals=(d-1,d-1)) \n",
    "    #eigenvalue, v = largest_eigsh(M, 1, which='LA',tol=tol)\n",
    "    #print(eigenvalue)\n",
    "    #print(np.sum(v ** 2))\n",
    "    \n",
    "    ## Don't regularize if constraint is satisfied\n",
    "    if eigenvalue > 0:\n",
    "        return v[:,0]\n",
    "    else:\n",
    "        return np.zeros(shape=v[:,0].shape)\n",
    "    \n",
    "# @jit(nopython=True)\n",
    "def a_step(a,X,resids_sq,v,lr,lam,eta,n):\n",
    "    \"\"\" Step to minimize \\sum_i a_i resids_sq[i]^2 + \\lambda sigma_{max}(X^T diag(1/n - a) X)\"\"\"\n",
    "    m = min(int(n*(1 - eta))+1,n) \n",
    "    \n",
    "    Xv_squared = np.dot(X,v)**2\n",
    "    penalties = resids_sq - lam * Xv_squared\n",
    "\n",
    "    #print(\"OBJ: \",np.dot(a,resids_sq), np.dot(a,-lam * Xv_squared) + lam * (1/n) * np.sum(Xv_squared))\n",
    "\n",
    "    #print(\"BEFORE: \",np.dot(a,penalties) + lam * (1/n) * np.sum(Xv_squared))\n",
    "\n",
    "    # multiplicative update\n",
    "    #print('residuals: ',resids_sq.shape)\n",
    "    #print('penalties: ', penalties.shape)\n",
    "    #print('a before exp: ', a)\n",
    "    a *= np.exp(-lr * penalties)\n",
    "    a /= np.sum(a)\n",
    "    #print('a after exp: ', a)\n",
    "    #print(\"MIDDLE:: \",np.dot(a,penalties) + lam * (1/n) * np.sum(Xv_squared))\n",
    "    # project back to sliced simplex\n",
    "    #print('a: ', a)\n",
    "    #print('m: ', m)\n",
    "    #print('a step a shape: ', a.shape)\n",
    "    a = cap(a,m)\n",
    "    #print('cap step a shape: ', a.shape)\n",
    "    return a\n",
    "\n",
    "def logistic_eval(x,y,reg):\n",
    "    n,d = x.shape\n",
    "    error = 0\n",
    "    for i in range(n):\n",
    "        error = error + np.absolute(y[i] - expit(np.inner(reg,x[i,:])))\n",
    "        \n",
    "    error = error/n\n",
    "    return error \n",
    "    \n",
    "reg = logistic_reg_oracle(x,y[:,0])\n",
    "print('non robust performance: ', logistic_eval(x,y,vanilla))\n",
    "print('robust performance: ',logistic_eval(x,y,reg))\n",
    "print('vanilla: ', vanilla)\n",
    "print('reg: ', reg)"
   ]
  },
  {
   "cell_type": "code",
   "execution_count": 4,
   "metadata": {},
   "outputs": [
    {
     "name": "stdout",
     "output_type": "stream",
     "text": [
      "init dv_out:  (5, 5)\n",
      "init dr_out:  (5, 5)\n",
      "number of corruptions\n",
      "50\n",
      "TIME:  3.450710999999999\n",
      "corruption level:  0.05\n",
      "non robust performance:  [0.26232178]\n",
      "robust performance:  [0.08045683]\n",
      "number of corruptions\n",
      "100\n",
      "TIME:  3.984224000000001\n",
      "corruption level:  0.1\n",
      "non robust performance:  [0.35038535]\n",
      "robust performance:  [0.21699079]\n",
      "number of corruptions\n",
      "150\n",
      "TIME:  4.198333999999999\n",
      "corruption level:  0.15\n",
      "non robust performance:  [0.41116867]\n",
      "robust performance:  [0.35085195]\n",
      "number of corruptions\n",
      "200\n",
      "TIME:  4.234593\n",
      "corruption level:  0.2\n",
      "non robust performance:  [0.43329277]\n",
      "robust performance:  [0.4033973]\n",
      "number of corruptions\n",
      "250\n",
      "TIME:  3.9934720000000006\n",
      "corruption level:  0.25\n",
      "non robust performance:  [0.45768108]\n",
      "robust performance:  [0.42872356]\n",
      "dv_out:  (5, 5)\n",
      "dr_out:  (5, 5)\n",
      "number of corruptions\n",
      "50\n"
     ]
    },
    {
     "name": "stderr",
     "output_type": "stream",
     "text": [
      "/opt/anaconda3/lib/python3.7/site-packages/ipykernel_launcher.py:41: DeprecationWarning: setting an array element with a sequence. This was supported in some cases where the elements are arrays with a single element. For example `np.array([1, np.array([2])], dtype=int)`. In the future this will raise the same ValueError as `np.array([1, [2]], dtype=int)`.\n",
      "/opt/anaconda3/lib/python3.7/site-packages/ipykernel_launcher.py:42: DeprecationWarning: setting an array element with a sequence. This was supported in some cases where the elements are arrays with a single element. For example `np.array([1, np.array([2])], dtype=int)`. In the future this will raise the same ValueError as `np.array([1, [2]], dtype=int)`.\n"
     ]
    },
    {
     "name": "stdout",
     "output_type": "stream",
     "text": [
      "TIME:  8.850625\n",
      "corruption level:  0.05\n",
      "non robust performance:  [0.25806344]\n",
      "robust performance:  [0.09927617]\n",
      "number of corruptions\n",
      "100\n",
      "TIME:  6.261433000000004\n",
      "corruption level:  0.1\n",
      "non robust performance:  [0.35231467]\n",
      "robust performance:  [0.24771224]\n",
      "number of corruptions\n",
      "150\n",
      "TIME:  7.0080719999999985\n",
      "corruption level:  0.15\n",
      "non robust performance:  [0.3892908]\n",
      "robust performance:  [0.32711632]\n",
      "number of corruptions\n",
      "200\n",
      "TIME:  7.259318999999998\n",
      "corruption level:  0.2\n",
      "non robust performance:  [0.41692884]\n",
      "robust performance:  [0.37472784]\n",
      "number of corruptions\n",
      "250\n",
      "TIME:  6.803868000000001\n",
      "corruption level:  0.25\n",
      "non robust performance:  [0.43713189]\n",
      "robust performance:  [0.40674676]\n",
      "dv_out:  (5, 5)\n",
      "dr_out:  (5, 5)\n",
      "number of corruptions\n",
      "50\n"
     ]
    },
    {
     "name": "stderr",
     "output_type": "stream",
     "text": [
      "/opt/anaconda3/lib/python3.7/site-packages/ipykernel_launcher.py:41: DeprecationWarning: setting an array element with a sequence. This was supported in some cases where the elements are arrays with a single element. For example `np.array([1, np.array([2])], dtype=int)`. In the future this will raise the same ValueError as `np.array([1, [2]], dtype=int)`.\n",
      "/opt/anaconda3/lib/python3.7/site-packages/ipykernel_launcher.py:42: DeprecationWarning: setting an array element with a sequence. This was supported in some cases where the elements are arrays with a single element. For example `np.array([1, np.array([2])], dtype=int)`. In the future this will raise the same ValueError as `np.array([1, [2]], dtype=int)`.\n"
     ]
    },
    {
     "name": "stdout",
     "output_type": "stream",
     "text": [
      "TIME:  13.225508999999995\n",
      "corruption level:  0.05\n",
      "non robust performance:  [0.23370741]\n",
      "robust performance:  [0.10814793]\n",
      "number of corruptions\n",
      "100\n",
      "TIME:  11.810765000000004\n",
      "corruption level:  0.1\n",
      "non robust performance:  [0.33829726]\n",
      "robust performance:  [0.21820012]\n",
      "number of corruptions\n",
      "150\n",
      "TIME:  12.083821\n",
      "corruption level:  0.15\n",
      "non robust performance:  [0.35640692]\n",
      "robust performance:  [0.29940735]\n",
      "number of corruptions\n",
      "200\n",
      "TIME:  11.55059\n",
      "corruption level:  0.2\n",
      "non robust performance:  [0.38747872]\n",
      "robust performance:  [0.33726269]\n",
      "number of corruptions\n",
      "250\n",
      "TIME:  10.783507999999998\n",
      "corruption level:  0.25\n",
      "non robust performance:  [0.41222186]\n",
      "robust performance:  [0.37795208]\n",
      "dv_out:  (5, 5)\n",
      "dr_out:  (5, 5)\n",
      "number of corruptions\n",
      "50\n"
     ]
    },
    {
     "name": "stderr",
     "output_type": "stream",
     "text": [
      "/opt/anaconda3/lib/python3.7/site-packages/ipykernel_launcher.py:41: DeprecationWarning: setting an array element with a sequence. This was supported in some cases where the elements are arrays with a single element. For example `np.array([1, np.array([2])], dtype=int)`. In the future this will raise the same ValueError as `np.array([1, [2]], dtype=int)`.\n",
      "/opt/anaconda3/lib/python3.7/site-packages/ipykernel_launcher.py:42: DeprecationWarning: setting an array element with a sequence. This was supported in some cases where the elements are arrays with a single element. For example `np.array([1, np.array([2])], dtype=int)`. In the future this will raise the same ValueError as `np.array([1, [2]], dtype=int)`.\n"
     ]
    },
    {
     "name": "stdout",
     "output_type": "stream",
     "text": [
      "TIME:  19.233649\n",
      "corruption level:  0.05\n",
      "non robust performance:  [0.2239137]\n",
      "robust performance:  [0.06720128]\n",
      "number of corruptions\n",
      "100\n",
      "TIME:  18.578362999999996\n",
      "corruption level:  0.1\n",
      "non robust performance:  [0.30285882]\n",
      "robust performance:  [0.21650164]\n",
      "number of corruptions\n",
      "150\n",
      "TIME:  17.232782000000014\n",
      "corruption level:  0.15\n",
      "non robust performance:  [0.33931569]\n",
      "robust performance:  [0.25578039]\n",
      "number of corruptions\n",
      "200\n",
      "TIME:  16.732427\n",
      "corruption level:  0.2\n",
      "non robust performance:  [0.37316304]\n",
      "robust performance:  [0.31259474]\n",
      "number of corruptions\n",
      "250\n",
      "TIME:  16.61907199999999\n",
      "corruption level:  0.25\n",
      "non robust performance:  [0.37820637]\n",
      "robust performance:  [0.33835278]\n",
      "dv_out:  (5, 5)\n",
      "dr_out:  (5, 5)\n",
      "number of corruptions\n",
      "50\n"
     ]
    },
    {
     "name": "stderr",
     "output_type": "stream",
     "text": [
      "/opt/anaconda3/lib/python3.7/site-packages/ipykernel_launcher.py:41: DeprecationWarning: setting an array element with a sequence. This was supported in some cases where the elements are arrays with a single element. For example `np.array([1, np.array([2])], dtype=int)`. In the future this will raise the same ValueError as `np.array([1, [2]], dtype=int)`.\n",
      "/opt/anaconda3/lib/python3.7/site-packages/ipykernel_launcher.py:42: DeprecationWarning: setting an array element with a sequence. This was supported in some cases where the elements are arrays with a single element. For example `np.array([1, np.array([2])], dtype=int)`. In the future this will raise the same ValueError as `np.array([1, [2]], dtype=int)`.\n"
     ]
    },
    {
     "name": "stdout",
     "output_type": "stream",
     "text": [
      "TIME:  23.74657399999998\n",
      "corruption level:  0.05\n",
      "non robust performance:  [0.21860424]\n",
      "robust performance:  [0.07473404]\n",
      "number of corruptions\n",
      "100\n"
     ]
    },
    {
     "name": "stderr",
     "output_type": "stream",
     "text": [
      "/opt/anaconda3/lib/python3.7/site-packages/sklearn/svm/_base.py:947: ConvergenceWarning: Liblinear failed to converge, increase the number of iterations.\n",
      "  \"the number of iterations.\", ConvergenceWarning)\n"
     ]
    },
    {
     "name": "stdout",
     "output_type": "stream",
     "text": [
      "TIME:  31.29546000000002\n",
      "corruption level:  0.1\n",
      "non robust performance:  [0.28430626]\n",
      "robust performance:  [0.18916636]\n",
      "number of corruptions\n",
      "150\n",
      "TIME:  24.050877000000014\n",
      "corruption level:  0.15\n",
      "non robust performance:  [0.30019166]\n",
      "robust performance:  [0.24585986]\n",
      "number of corruptions\n",
      "200\n",
      "TIME:  20.056569999999965\n",
      "corruption level:  0.2\n",
      "non robust performance:  [0.36347824]\n",
      "robust performance:  [0.30940737]\n",
      "number of corruptions\n",
      "250\n",
      "TIME:  18.76034999999996\n",
      "corruption level:  0.25\n",
      "non robust performance:  [0.39032772]\n",
      "robust performance:  [0.35809213]\n",
      "dv_out:  (5, 5)\n",
      "dr_out:  (5, 5)\n",
      "robust:  [[0.08045683 0.21699079 0.35085195 0.4033973  0.42872356]\n",
      " [0.09927617 0.24771224 0.32711632 0.37472784 0.40674676]\n",
      " [0.10814793 0.21820012 0.29940735 0.33726269 0.37795208]\n",
      " [0.06720128 0.21650164 0.25578039 0.31259474 0.33835278]\n",
      " [0.07473404 0.18916636 0.24585986 0.30940737 0.35809213]]\n",
      "non robust:  [[0.26232178 0.35038535 0.41116867 0.43329277 0.45768108]\n",
      " [0.25806344 0.35231467 0.3892908  0.41692884 0.43713189]\n",
      " [0.23370741 0.33829726 0.35640692 0.38747872 0.41222186]\n",
      " [0.2239137  0.30285882 0.33931569 0.37316304 0.37820637]\n",
      " [0.21860424 0.28430626 0.30019166 0.36347824 0.39032772]]\n"
     ]
    },
    {
     "name": "stderr",
     "output_type": "stream",
     "text": [
      "/opt/anaconda3/lib/python3.7/site-packages/ipykernel_launcher.py:41: DeprecationWarning: setting an array element with a sequence. This was supported in some cases where the elements are arrays with a single element. For example `np.array([1, np.array([2])], dtype=int)`. In the future this will raise the same ValueError as `np.array([1, [2]], dtype=int)`.\n",
      "/opt/anaconda3/lib/python3.7/site-packages/ipykernel_launcher.py:42: DeprecationWarning: setting an array element with a sequence. This was supported in some cases where the elements are arrays with a single element. For example `np.array([1, np.array([2])], dtype=int)`. In the future this will raise the same ValueError as `np.array([1, [2]], dtype=int)`.\n"
     ]
    }
   ],
   "source": [
    "#plot experiments for logistic regression\n",
    "d_list = [50,100,150,200,250]\n",
    "eta_list = [0.05,0.1,0.15,0.2,0.25]\n",
    "\n",
    "def run_experiment():\n",
    "    N = 1000\n",
    "    k = 1\n",
    "    dv_out = np.zeros((len(d_list),len(eta_list)))\n",
    "    dr_out = np.zeros((len(d_list),len(eta_list)))\n",
    "    print(\"init dv_out: \", dv_out.shape)\n",
    "    print('init dr_out: ', dr_out.shape)\n",
    "    index = 0\n",
    "    for d in d_list: \n",
    "        results_robust = []\n",
    "        results_vanilla = []\n",
    "        for eta in eta_list: \n",
    "            data = logistic_synthetic_example(N,d,k,eta,corrupt=True)\n",
    "            #data = logistic_synthetic_example(N,d,k,eta,corrupt=False)\n",
    "            x = data['cov']\n",
    "            y = data['label']\n",
    "            #run vanilla logistic regression\n",
    "            from sklearn.linear_model import LogisticRegression\n",
    "            model = LogisticRegression(solver='liblinear', random_state=0, fit_intercept ='False')\n",
    "            lab = y[:,0]\n",
    "            model.fit(x, lab)\n",
    "            vanilla = model.coef_\n",
    "            #run robust logistic regression\n",
    "            import time\n",
    "            start = time.process_time()\n",
    "            reg = logistic_reg_oracle(x,lab)\n",
    "            print('TIME: ',time.process_time() - start)\n",
    "            v_out = logistic_eval(x,y,vanilla)\n",
    "            r_out = logistic_eval(x,y,reg)\n",
    "            results_robust.append(r_out)\n",
    "            results_vanilla.append(v_out)\n",
    "            print('corruption level: ',eta)\n",
    "            print('non robust performance: ', v_out)\n",
    "            print('robust performance: ', r_out)\n",
    "        print(\"dv_out: \", dv_out.shape)\n",
    "        print('dr_out: ', dr_out.shape)\n",
    "        dv_out[index,:] = results_vanilla\n",
    "        dr_out[index,:] = results_robust\n",
    "        index = index + 1\n",
    "    return (dr_out,dv_out)  \n",
    "\n",
    "(rob,nrob) = run_experiment()\n",
    "print('robust: ', rob)\n",
    "print('non robust: ', nrob)"
   ]
  },
  {
   "cell_type": "code",
   "execution_count": 29,
   "metadata": {},
   "outputs": [
    {
     "data": {
      "image/png": "[encoded data removed]",
      "text/plain": [
       "<Figure size 432x288 with 4 Axes>"
      ]
     },
     "metadata": {
      "needs_background": "light"
     },
     "output_type": "display_data"
    }
   ],
   "source": [
    "from matplotlib import pyplot as plt\n",
    "\n",
    "fig, ax = plt.subplots(2,2)\n",
    " \n",
    "# Accessing each axes object to plot the data through returned array\n",
    "for i in range(2):\n",
    "    for j in range(2): \n",
    "        ax[i,j].plot(eta_list,rob[i,:],label='robust')\n",
    "        ax[i,j].plot(eta_list,nrob[i,:],label='logistic')\n",
    "        ax[i,j].set(xlabel = 'fraction corrupted', ylabel='fraction misclassified')\n",
    "        ax[i,j].legend(loc='lower right', shadow=True)\n",
    "        ax[i,j].set_title('Logistic Regression vs. Logistic SCRAM dim=' + str(d_list[i]))\n",
    "\n",
    "fig.tight_layout()\n",
    "plt.show()"
   ]
  },
  {
   "cell_type": "code",
   "execution_count": 5,
   "metadata": {},
   "outputs": [
    {
     "data": {
      "image/png": "[encoded data removed]",
      "text/plain": [
       "<Figure size 432x288 with 1 Axes>"
      ]
     },
     "metadata": {
      "needs_background": "light"
     },
     "output_type": "display_data"
    },
    {
     "data": {
      "image/png": "[encoded data removed]",
      "text/plain": [
       "<Figure size 432x288 with 1 Axes>"
      ]
     },
     "metadata": {
      "needs_background": "light"
     },
     "output_type": "display_data"
    },
    {
     "data": {
      "image/png": "[encoded data removed]",
      "text/plain": [
       "<Figure size 432x288 with 1 Axes>"
      ]
     },
     "metadata": {
      "needs_background": "light"
     },
     "output_type": "display_data"
    },
    {
     "data": {
      "image/png": "[encoded data removed]",
      "text/plain": [
       "<Figure size 432x288 with 1 Axes>"
      ]
     },
     "metadata": {
      "needs_background": "light"
     },
     "output_type": "display_data"
    },
    {
     "data": {
      "image/png": "[encoded data removed]",
      "text/plain": [
       "<Figure size 432x288 with 1 Axes>"
      ]
     },
     "metadata": {
      "needs_background": "light"
     },
     "output_type": "display_data"
    }
   ],
   "source": [
    "for i in range(len(d_list)):\n",
    "    plt.plot(eta_list,rob[i,:],label='robust')\n",
    "    plt.plot(eta_list,nrob[i,:],label='logistic')\n",
    "    plt.xlabel('fraction corrupted')\n",
    "    plt.ylabel('fraction misclassified')\n",
    "    plt.legend(loc='lower right', shadow=True)\n",
    "    plt.title('Logistic Regression vs. Logistic SCRAM dim=' + str(d_list[i]))\n",
    "    plt.savefig('sample' + str(i) + '.png')\n",
    "    plt.show()"
   ]
  },
  {
   "cell_type": "code",
   "execution_count": null,
   "metadata": {},
   "outputs": [],
   "source": [
    "from mw2 import MW_no_alt_min, get_weights, altmin_step\n",
    "\n",
    "def isotropic(Xs,fake=False):\n",
    "    if fake:\n",
    "        return Xs, np.eye(Xs.shape[1])\n",
    "    Sig = np.matmul(Xs.T,Xs)\n",
    "    Sig_sqrt = np.linalg.inv(sqrtm(Sig))\n",
    "    new_Xs = np.matmul(Xs,Sig_sqrt)\n",
    "    return new_Xs, Sig_sqrt\n",
    "\n",
    "def scram(x,y,params):\n",
    "    AM_steps = params[0]\n",
    "    altmin_params = params[1:]\n",
    "    N,d = x.shape\n",
    "    w = [0.]*d\n",
    "    a = [1.]*N\n",
    "    #iso_x, Sig_sqrt = isotropic(x)\n",
    "    iso_x = x\n",
    "    Sig_sqrt = np.eye(d)\n",
    "    AM_steps = 1\n",
    "    for i in range(AM_steps):\n",
    "        #print('AM step: ',i)\n",
    "        w,a = altmin_step(iso_x,y,a,altmin_params,init=False)\n",
    "    final_w = np.matmul(Sig_sqrt,w)    \n",
    "    return final_w\n",
    "\n",
    "#regression oracle \n",
    "def regression_oracle(x,y,mode='ols'):\n",
    "    if mode == 'ols':\n",
    "        model = LinearRegression()\n",
    "        model.fit(x,y)\n",
    "        regressor = model.coef_\n",
    "    if mode == 'scram':\n",
    "        lr = 0.5\n",
    "        lam = 0.2\n",
    "        MW_steps = 10\n",
    "        eta = 0.1\n",
    "        AM_steps = 10\n",
    "        params = (AM_steps,lr,lam,MW_steps,eta)\n",
    "        regressor = scram(x,y,params)\n",
    "    return regressor\n",
    "\n",
    "\n",
    "reg = regression_oracle(x,y[:,0])\n",
    "\n",
    "def optimal_reward(y):\n",
    "    a,b = y.shape\n",
    "    cumsum = 0\n",
    "    for i in range(a):\n",
    "        cumsum = cumsum + np.amax(y[i,:])\n",
    "    return cumsum/a\n",
    "\n",
    "max_reward = optimal_reward(y)\n",
    "print('Optimal Reward')\n",
    "print(max_reward)"
   ]
  },
  {
   "cell_type": "code",
   "execution_count": null,
   "metadata": {},
   "outputs": [],
   "source": [
    "#contextual bandits takes covariates and labels\n",
    "def contextual_bandit(cov_label):\n",
    "    cov = cov_label['cov']\n",
    "    labels = cov_label['label']\n",
    "    (N,d) = cov.shape\n",
    "    (N,k) = labels.shape\n",
    "    estimators = np.zeros((k,d))\n",
    "    action_list = []\n",
    "    mu = k\n",
    "    delta = 0.1\n",
    "    gamma = np.sqrt(k*N/(d*np.log(N/d) + 1./(2*delta)))\n",
    "    params = (mu,gamma)\n",
    "    rewards = []\n",
    "    mean_reward = []\n",
    "    for i in range(N):\n",
    "        print('iteration: ',i)\n",
    "        covariate = cov[i,:]\n",
    "        values = np.zeros(k)\n",
    "        for j in range(k):\n",
    "            est = estimators[j,:]\n",
    "            values[j] = np.inner(est,covariate)\n",
    "        action = select_action(values,params)\n",
    "        action_list.append(action)\n",
    "        bandit_feedback = labels[i,action]\n",
    "        rewards.append(bandit_feedback)\n",
    "        (data_x,data_y) = get_data(cov_label,action_list,action) \n",
    "        \n",
    "        #bug, ols can run on one datapoint but scram can't\n",
    "        #estimators[action,:] = regression_oracle(data_x,data_y,mode='ols')\n",
    "        estimators[action,:] = regression_oracle(data_x,data_y,mode='scram')\n",
    "        print('action')\n",
    "        print(action)\n",
    "        print('average reward')\n",
    "        #print(rewards)\n",
    "        avg_reward = sum(rewards)/len(rewards)\n",
    "        mean_reward.append(avg_reward)\n",
    "        print(avg_reward)\n",
    "    return mean_reward\n",
    "\n",
    "def get_data(cov_label,action_list,action):\n",
    "    cov = cov_label['cov']\n",
    "    labels = cov_label['label']\n",
    "    (N,d) = cov.shape\n",
    "    (N,k) = labels.shape\n",
    "    length = len(action_list)\n",
    "    count = 0\n",
    "    for i in range(length):\n",
    "        if action_list[i] == action:\n",
    "            count = count + 1\n",
    "    \n",
    "    data_x = np.zeros((count,d))\n",
    "    data_y = np.zeros(count)\n",
    "    counter = 0\n",
    "    for i in range(len(action_list)):\n",
    "        if action_list[i] == action:\n",
    "            data_x[counter] = cov[i,:]\n",
    "            data_y[counter] = labels[i,action]\n",
    "            counter = counter + 1\n",
    "    return (data_x,data_y) \n",
    "\n",
    "\n",
    "def select_action(values,params):\n",
    "    (mu,gamma) = params\n",
    "    k = mu\n",
    "    max_value = np.amax(values)\n",
    "    max_index = np.where(values == max_value)[0][0]\n",
    "    prob = np.zeros(len(values))\n",
    "    for i in range(k): \n",
    "        if i == max_index:\n",
    "            next\n",
    "        else: \n",
    "            prob[i] = 1./(mu + gamma*(max_value - values[i]))\n",
    "    prob[max_index] = 1 - np.sum(prob)\n",
    "    prob = prob/np.sum(prob)\n",
    "    #print('probability')\n",
    "    #print(prob)\n",
    "    #TODO roulette wheel\n",
    "    draw = np.random.rand()\n",
    "    sums = 0\n",
    "    action = 0\n",
    "    for i in range(k):\n",
    "        sums = sums + prob[i]\n",
    "        if sums >= draw:\n",
    "            action = i\n",
    "            break\n",
    "    return action\n",
    "\n",
    "mean_reward = contextual_bandit(data)"
   ]
  },
  {
   "cell_type": "code",
   "execution_count": null,
   "metadata": {},
   "outputs": [],
   "source": [
    "import matplotlib.pyplot as plt\n",
    "domain = range(len(mean_reward))\n",
    "plt.scatter(domain, mean_reward)\n",
    "plt.show()"
   ]
  },
  {
   "cell_type": "code",
   "execution_count": null,
   "metadata": {},
   "outputs": [],
   "source": [
    "a = np.array([[2,3],[1,4]])\n",
    "b = np.sort(a,axis=0)\n",
    "print(b)"
   ]
  },
  {
   "cell_type": "code",
   "execution_count": null,
   "metadata": {},
   "outputs": [],
   "source": [
    "a = np.array([3,2,1])\n",
    "order = a.argsort()\n",
    "print(order)\n",
    "b = a[order]\n",
    "print(b)\n"
   ]
  },
  {
   "cell_type": "code",
   "execution_count": null,
   "metadata": {},
   "outputs": [],
   "source": [
    "a = np.zeros((2,3))\n",
    "a.shape[1]"
   ]
  },
  {
   "cell_type": "code",
   "execution_count": null,
   "metadata": {},
   "outputs": [],
   "source": [
    "x = tf.constant([0.5,0.5,0.5])\n",
    "y = tf.constant([1.,0.,1.])\n",
    "weights = tf.constant([0.4,0.2,0.4])\n",
    "t = tf.ones(3)\n",
    "\n",
    "\n",
    "arg1 = tf.multiply(y,tf.math.log(x))\n",
    "arg2 = tf.multiply(tf.subtract(t,y),tf.math.log(tf.math.subtract(t,x)))\n",
    "q = tf.reduce_sum(tf.multiply(tf.add(arg1,arg2),weights))\n",
    "print(q)\n",
    "\n",
    "print(tf.math.scalar_mul(-1.0,x))"
   ]
  },
  {
   "cell_type": "code",
   "execution_count": null,
   "metadata": {},
   "outputs": [],
   "source": [
    "print(x)"
   ]
  },
  {
   "cell_type": "code",
   "execution_count": null,
   "metadata": {},
   "outputs": [],
   "source": [
    "a = tf.ones(2)\n",
    "b = tf.ones(32)\n",
    "c = b.numpy()\n",
    "print(c)"
   ]
  },
  {
   "cell_type": "code",
   "execution_count": null,
   "metadata": {},
   "outputs": [],
   "source": [
    "a = np.empty((0,2))\n",
    "b = np.zeros((2,2))\n",
    "c = np.array([b[0,:]])\n",
    "print(c)\n",
    "d = np.append(a,c,axis=0)\n",
    "print(d)"
   ]
  },
  {
   "cell_type": "code",
   "execution_count": null,
   "metadata": {},
   "outputs": [],
   "source": [
    "a = np.ones(3)\n",
    "b = np.ones(3)\n",
    "c = np.ones((3,3))\n",
    "d = np.matmul(c,b)\n",
    "print(d)"
   ]
  },
  {
   "cell_type": "code",
   "execution_count": null,
   "metadata": {},
   "outputs": [],
   "source": [
    "a=5\n",
    "a = a/10\n",
    "a"
   ]
  },
  {
   "cell_type": "code",
   "execution_count": null,
   "metadata": {},
   "outputs": [],
   "source": [
    "a = []\n",
    "a.append(1)\n",
    "print(a)"
   ]
  },
  {
   "cell_type": "code",
   "execution_count": null,
   "metadata": {},
   "outputs": [],
   "source": [
    "a = np.ones(10)\n",
    "a.shape[0]"
   ]
  },
  {
   "cell_type": "code",
   "execution_count": null,
   "metadata": {},
   "outputs": [],
   "source": [
    "a = np.zeros((3,2))\n",
    "b = np.ones(2)\n",
    "a[1,:] = b\n",
    "print(a)"
   ]
  },
  {
   "cell_type": "code",
   "execution_count": 21,
   "metadata": {},
   "outputs": [
    {
     "name": "stdout",
     "output_type": "stream",
     "text": [
      "5\n"
     ]
    }
   ],
   "source": [
    "b = 5\n",
    "a = '' + str(b)\n",
    "print(a)"
   ]
  },
  {
   "cell_type": "code",
   "execution_count": 50,
   "metadata": {},
   "outputs": [
    {
     "name": "stdout",
     "output_type": "stream",
     "text": [
      "4\n"
     ]
    }
   ],
   "source": [
    "x = range(1,5)\n",
    "print(x[3])"
   ]
  },
  {
   "cell_type": "code",
   "execution_count": 52,
   "metadata": {},
   "outputs": [
    {
     "name": "stdout",
     "output_type": "stream",
     "text": [
      "5\n"
     ]
    },
    {
     "ename": "TypeError",
     "evalue": "'str' object does not support item assignment",
     "output_type": "error",
     "traceback": [
      "\u001b[0;31m---------------------------------------------------------------------------\u001b[0m",
      "\u001b[0;31mTypeError\u001b[0m                                 Traceback (most recent call last)",
      "\u001b[0;32m<ipython-input-52-e87c2aabbfc8>\u001b[0m in \u001b[0;36m<module>\u001b[0;34m\u001b[0m\n\u001b[1;32m      2\u001b[0m \u001b[0mprint\u001b[0m\u001b[0;34m(\u001b[0m\u001b[0mlen\u001b[0m\u001b[0;34m(\u001b[0m\u001b[0ma\u001b[0m\u001b[0;34m)\u001b[0m\u001b[0;34m)\u001b[0m\u001b[0;34m\u001b[0m\u001b[0;34m\u001b[0m\u001b[0m\n\u001b[1;32m      3\u001b[0m \u001b[0mb\u001b[0m \u001b[0;34m=\u001b[0m \u001b[0ma\u001b[0m\u001b[0;34m\u001b[0m\u001b[0;34m\u001b[0m\u001b[0m\n\u001b[0;32m----> 4\u001b[0;31m \u001b[0ma\u001b[0m\u001b[0;34m[\u001b[0m\u001b[0;36m0\u001b[0m\u001b[0;34m]\u001b[0m \u001b[0;34m=\u001b[0m \u001b[0;34m'g'\u001b[0m\u001b[0;34m\u001b[0m\u001b[0;34m\u001b[0m\u001b[0m\n\u001b[0m\u001b[1;32m      5\u001b[0m \u001b[0mprint\u001b[0m\u001b[0;34m(\u001b[0m\u001b[0ma\u001b[0m\u001b[0;34m)\u001b[0m\u001b[0;34m\u001b[0m\u001b[0;34m\u001b[0m\u001b[0m\n\u001b[1;32m      6\u001b[0m \u001b[0mprint\u001b[0m\u001b[0;34m(\u001b[0m\u001b[0mb\u001b[0m\u001b[0;34m)\u001b[0m\u001b[0;34m\u001b[0m\u001b[0;34m\u001b[0m\u001b[0m\n",
      "\u001b[0;31mTypeError\u001b[0m: 'str' object does not support item assignment"
     ]
    }
   ],
   "source": [
    "a = 'hello'\n",
    "print(len(a))\n",
    "b = a\n",
    "a[0] = 'g'\n",
    "print(a)\n",
    "print(b)"
   ]
  },
  {
   "cell_type": "code",
   "execution_count": null,
   "metadata": {},
   "outputs": [],
   "source": []
  }
 ],
 "metadata": {
  "kernelspec": {
   "display_name": "Python 3",
   "language": "python",
   "name": "python3"
  },
  "language_info": {
   "codemirror_mode": {
    "name": "ipython",
    "version": 3
   },
   "file_extension": ".py",
   "mimetype": "text/x-python",
   "name": "python",
   "nbconvert_exporter": "python",
   "pygments_lexer": "ipython3",
   "version": "3.7.6"
  }
 },
 "nbformat": 4,
 "nbformat_minor": 4
}
